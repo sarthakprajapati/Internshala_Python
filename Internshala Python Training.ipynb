{
 "cells": [
  {
   "cell_type": "markdown",
   "metadata": {},
   "source": [
    "# Using Conditionals"
   ]
  },
  {
   "cell_type": "markdown",
   "metadata": {},
   "source": [
    "Program1"
   ]
  },
  {
   "cell_type": "markdown",
   "metadata": {},
   "source": [
    "Write a program to check if a number is positive and print the message, \"This is a positive number.\" if it is a positive number."
   ]
  },
  {
   "cell_type": "code",
   "execution_count": null,
   "metadata": {},
   "outputs": [],
   "source": [
    "if(int(input()))>=0:\n",
    "    print(\"This is a positive number\")"
   ]
  },
  {
   "cell_type": "raw",
   "metadata": {},
   "source": [
    "Program 2"
   ]
  },
  {
   "cell_type": "markdown",
   "metadata": {},
   "source": [
    "A leap year is a leap year if it is evenly divisible by 4 but not evenly divisible by 100, unless it is also evenly divisible by 400."
   ]
  },
  {
   "cell_type": "code",
   "execution_count": 2,
   "metadata": {},
   "outputs": [
    {
     "name": "stdout",
     "output_type": "stream",
     "text": [
      "Enter Year2018\n",
      "Not Leap\n"
     ]
    }
   ],
   "source": [
    "year = int(input(\"Enter Year\"))\n",
    "if year%100==0:\n",
    "    if year%400==0:\n",
    "        print(\"Leap Year\")\n",
    "    else:\n",
    "        print(\"Not Leap\")\n",
    "else:\n",
    "    if year%4==0:\n",
    "        print(\"Leap\")\n",
    "    else:\n",
    "        print(\"Not Leap\")"
   ]
  },
  {
   "cell_type": "raw",
   "metadata": {},
   "source": [
    "LOOPS"
   ]
  },
  {
   "cell_type": "markdown",
   "metadata": {},
   "source": [
    "Example 1:"
   ]
  },
  {
   "cell_type": "code",
   "execution_count": 5,
   "metadata": {},
   "outputs": [
    {
     "name": "stdout",
     "output_type": "stream",
     "text": [
      "1 100\n",
      "2 200\n",
      "3 300\n"
     ]
    }
   ],
   "source": [
    "sum=0\n",
    "\n",
    "dict={1:100, 2:200, 3:300}\n",
    "\n",
    "for k,v in dict.items():\n",
    "\n",
    "    print (k,v)"
   ]
  },
  {
   "cell_type": "code",
   "execution_count": 7,
   "metadata": {},
   "outputs": [
    {
     "name": "stdout",
     "output_type": "stream",
     "text": [
      "1 100\n",
      "2 200\n",
      "3 300\n"
     ]
    }
   ],
   "source": [
    "#If you might recall the keys() and values() methods of dictionary objects.\n",
    "#They return a list of keys and values respectively. Also, the get() method fetches value corresponding to a key.\n",
    "#So, if you reiterate over keys and print corresponding value using a for loop, corresponding key-value pairs would get displayed.\n",
    "\n",
    "sum=0\n",
    "\n",
    "dict={1:100, 2:200, 3:300}\n",
    "\n",
    "for k in dict.keys():\n",
    "\n",
    "    print (k,dict.get(k))"
   ]
  },
  {
   "cell_type": "raw",
   "metadata": {},
   "source": [
    "Code Challenge:\n",
    "Write a program to print the multiplication table of 16 upto 16 * 12 using the 'while' loop.\n",
    "Additional Challenge: Instead of 16, can you make it into a user input number so that the program can generate the multiplication table for any number? Extend this program and try it out in IDLE."
   ]
  },
  {
   "cell_type": "code",
   "execution_count": 8,
   "metadata": {},
   "outputs": [
    {
     "name": "stdout",
     "output_type": "stream",
     "text": [
      "16\n",
      "32\n",
      "48\n",
      "64\n",
      "80\n",
      "96\n",
      "112\n",
      "128\n",
      "144\n",
      "160\n",
      "176\n",
      "192\n"
     ]
    }
   ],
   "source": [
    "i=1\n",
    "while i<=12: \n",
    "    print(16*i)\n",
    "    i=i+1\n"
   ]
  },
  {
   "cell_type": "raw",
   "metadata": {},
   "source": [
    "Factorial"
   ]
  },
  {
   "cell_type": "code",
   "execution_count": 13,
   "metadata": {},
   "outputs": [
    {
     "name": "stdout",
     "output_type": "stream",
     "text": [
      "6\n",
      "The factorial of 6 is 720\n"
     ]
    }
   ],
   "source": [
    "t = int(input())\n",
    "fact = 1\n",
    "for x in range(1,t+1):\n",
    "    fact=fact*x\n",
    "print(\"The factorial of {} is {}\".format(t,fact))    "
   ]
  },
  {
   "cell_type": "code",
   "execution_count": 16,
   "metadata": {},
   "outputs": [
    {
     "name": "stdout",
     "output_type": "stream",
     "text": [
      "7\n",
      "2\n"
     ]
    }
   ],
   "source": [
    "#Iteration over a list\n",
    "for i in [6,1]:\n",
    "    print(i+1) "
   ]
  },
  {
   "cell_type": "code",
   "execution_count": 20,
   "metadata": {},
   "outputs": [],
   "source": [
    "#We can iterate over a string, tuple, dictionary\n",
    "#keys, values and get method"
   ]
  },
  {
   "cell_type": "markdown",
   "metadata": {},
   "source": [
    "Break and continue statement"
   ]
  },
  {
   "cell_type": "markdown",
   "metadata": {},
   "source": [
    "Prime Factors"
   ]
  },
  {
   "cell_type": "code",
   "execution_count": 3,
   "metadata": {},
   "outputs": [
    {
     "name": "stdout",
     "output_type": "stream",
     "text": [
      "Enter Number720\n",
      "2\n",
      "2\n",
      "2\n",
      "2\n",
      "3\n",
      "3\n",
      "5\n"
     ]
    }
   ],
   "source": [
    "x = int(input(\"Enter Number\"))\n",
    "d = 2\n",
    "while x > 1:\n",
    "    if x%d == 0:\n",
    "        print(d)\n",
    "        x = x/d\n",
    "        continue\n",
    "    d=d+1"
   ]
  },
  {
   "cell_type": "markdown",
   "metadata": {},
   "source": [
    "# Using Functions"
   ]
  },
  {
   "cell_type": "code",
   "execution_count": 6,
   "metadata": {},
   "outputs": [
    {
     "name": "stdout",
     "output_type": "stream",
     "text": [
      "Hello, My name is Sarthak\n"
     ]
    }
   ],
   "source": [
    "def name():\n",
    "    print(\"Hello, My name is Sarthak\")\n",
    "name()"
   ]
  },
  {
   "cell_type": "raw",
   "metadata": {},
   "source": [
    "Global Variables Redeclaration"
   ]
  },
  {
   "cell_type": "code",
   "execution_count": 11,
   "metadata": {},
   "outputs": [
    {
     "name": "stdout",
     "output_type": "stream",
     "text": [
      "5\n",
      "7\n"
     ]
    }
   ],
   "source": [
    "x =5;\n",
    "print (x)\n",
    "globals()['x']=7\n",
    "print(x)"
   ]
  },
  {
   "cell_type": "markdown",
   "metadata": {},
   "source": [
    "# Built inFunctions"
   ]
  },
  {
   "cell_type": "raw",
   "metadata": {},
   "source": [
    "Prominent built-in methods in Python\n",
    "__builtin__\n",
    "exceptions\n",
    "os\n",
    "string\n",
    "re\n",
    "math\n",
    "cmath\n",
    "sys\n",
    "time\n",
    "gc"
   ]
  },
  {
   "cell_type": "code",
   "execution_count": 27,
   "metadata": {},
   "outputs": [
    {
     "name": "stderr",
     "output_type": "stream",
     "text": [
      "ERROR:root:Internal Python error in the inspect module.\n",
      "Below is the traceback from this internal error.\n",
      "\n"
     ]
    },
    {
     "name": "stdout",
     "output_type": "stream",
     "text": [
      "Traceback (most recent call last):\n",
      "  File \"/home/sarthak/anaconda3/lib/python3.6/site-packages/IPython/core/interactiveshell.py\", line 2963, in run_code\n",
      "    exec(code_obj, self.user_global_ns, self.user_ns)\n",
      "  File \"<ipython-input-27-fa405f3c1af3>\", line 2, in <module>\n",
      "    os.mkdir(\"SarthakPrajapati\")\n",
      "FileNotFoundError: [Errno 2] No such file or directory: 'SarthakPrajapati'\n",
      "\n",
      "During handling of the above exception, another exception occurred:\n",
      "\n",
      "Traceback (most recent call last):\n",
      "  File \"/home/sarthak/anaconda3/lib/python3.6/site-packages/IPython/core/interactiveshell.py\", line 1863, in showtraceback\n",
      "    stb = value._render_traceback_()\n",
      "AttributeError: 'FileNotFoundError' object has no attribute '_render_traceback_'\n",
      "\n",
      "During handling of the above exception, another exception occurred:\n",
      "\n",
      "Traceback (most recent call last):\n",
      "  File \"/home/sarthak/anaconda3/lib/python3.6/site-packages/IPython/core/ultratb.py\", line 1095, in get_records\n",
      "    return _fixed_getinnerframes(etb, number_of_lines_of_context, tb_offset)\n",
      "  File \"/home/sarthak/anaconda3/lib/python3.6/site-packages/IPython/core/ultratb.py\", line 311, in wrapped\n",
      "    return f(*args, **kwargs)\n",
      "  File \"/home/sarthak/anaconda3/lib/python3.6/site-packages/IPython/core/ultratb.py\", line 345, in _fixed_getinnerframes\n",
      "    records = fix_frame_records_filenames(inspect.getinnerframes(etb, context))\n",
      "  File \"/home/sarthak/anaconda3/lib/python3.6/inspect.py\", line 1483, in getinnerframes\n",
      "    frameinfo = (tb.tb_frame,) + getframeinfo(tb, context)\n",
      "  File \"/home/sarthak/anaconda3/lib/python3.6/inspect.py\", line 1441, in getframeinfo\n",
      "    filename = getsourcefile(frame) or getfile(frame)\n",
      "  File \"/home/sarthak/anaconda3/lib/python3.6/inspect.py\", line 696, in getsourcefile\n",
      "    if getattr(getmodule(object, filename), '__loader__', None) is not None:\n",
      "  File \"/home/sarthak/anaconda3/lib/python3.6/inspect.py\", line 725, in getmodule\n",
      "    file = getabsfile(object, _filename)\n",
      "  File \"/home/sarthak/anaconda3/lib/python3.6/inspect.py\", line 709, in getabsfile\n",
      "    return os.path.normcase(os.path.abspath(_filename))\n",
      "  File \"/home/sarthak/anaconda3/lib/python3.6/posixpath.py\", line 376, in abspath\n",
      "    cwd = os.getcwd()\n",
      "FileNotFoundError: [Errno 2] No such file or directory\n"
     ]
    },
    {
     "ename": "FileNotFoundError",
     "evalue": "[Errno 2] No such file or directory: 'SarthakPrajapati'",
     "output_type": "error",
     "traceback": [
      "\u001b[0;31m---------------------------------------------------------------------------\u001b[0m"
     ]
    }
   ],
   "source": [
    "import os\n",
    "os.mkdir(\"SarthakPrajapati\")"
   ]
  },
  {
   "cell_type": "code",
   "execution_count": 18,
   "metadata": {},
   "outputs": [],
   "source": [
    "os.chdir(\"SarthakPrajapati/\") #Change Directory"
   ]
  },
  {
   "cell_type": "code",
   "execution_count": 19,
   "metadata": {},
   "outputs": [
    {
     "data": {
      "text/plain": [
       "'/home/sarthak/anaconda3/bin/SarthakPrajapati'"
      ]
     },
     "execution_count": 19,
     "metadata": {},
     "output_type": "execute_result"
    }
   ],
   "source": [
    "os.getcwd()"
   ]
  },
  {
   "cell_type": "code",
   "execution_count": 28,
   "metadata": {},
   "outputs": [
    {
     "data": {
      "text/plain": [
       "<function posix.rmdir(path, *, dir_fd=None)>"
      ]
     },
     "execution_count": 28,
     "metadata": {},
     "output_type": "execute_result"
    }
   ],
   "source": [
    "os.rmdir"
   ]
  },
  {
   "cell_type": "markdown",
   "metadata": {},
   "source": [
    "# Random"
   ]
  },
  {
   "cell_type": "code",
   "execution_count": 3,
   "metadata": {},
   "outputs": [
    {
     "data": {
      "text/plain": [
       "0.7764689676164404"
      ]
     },
     "execution_count": 3,
     "metadata": {},
     "output_type": "execute_result"
    }
   ],
   "source": [
    "import random\n",
    "random.random()"
   ]
  },
  {
   "cell_type": "code",
   "execution_count": 5,
   "metadata": {},
   "outputs": [
    {
     "data": {
      "text/plain": [
       "50"
      ]
     },
     "execution_count": 5,
     "metadata": {},
     "output_type": "execute_result"
    }
   ],
   "source": [
    "random.randint(1,100)"
   ]
  },
  {
   "cell_type": "code",
   "execution_count": 8,
   "metadata": {},
   "outputs": [
    {
     "data": {
      "text/plain": [
       "89"
      ]
     },
     "execution_count": 8,
     "metadata": {},
     "output_type": "execute_result"
    }
   ],
   "source": [
    "random.randrange(1,100,2)"
   ]
  },
  {
   "cell_type": "code",
   "execution_count": 10,
   "metadata": {},
   "outputs": [
    {
     "data": {
      "text/plain": [
       "'t'"
      ]
     },
     "execution_count": 10,
     "metadata": {},
     "output_type": "execute_result"
    }
   ],
   "source": [
    "random.choice('sarthak')"
   ]
  },
  {
   "cell_type": "code",
   "execution_count": 12,
   "metadata": {},
   "outputs": [
    {
     "data": {
      "text/plain": [
       "[22, 77, 44, 33, 66, 88, 55, 11, 99]"
      ]
     },
     "execution_count": 12,
     "metadata": {},
     "output_type": "execute_result"
    }
   ],
   "source": [
    "num = [11,22,33,44,55,66,77,88,99]\n",
    "random.shuffle(num)\n",
    "num \n",
    "#randomly shuffle likes music player"
   ]
  },
  {
   "cell_type": "markdown",
   "metadata": {},
   "source": [
    "# Math"
   ]
  },
  {
   "cell_type": "code",
   "execution_count": 15,
   "metadata": {},
   "outputs": [],
   "source": [
    "import math"
   ]
  },
  {
   "cell_type": "markdown",
   "metadata": {},
   "source": [
    "Math Constants"
   ]
  },
  {
   "cell_type": "code",
   "execution_count": 16,
   "metadata": {},
   "outputs": [
    {
     "data": {
      "text/plain": [
       "3.141592653589793"
      ]
     },
     "execution_count": 16,
     "metadata": {},
     "output_type": "execute_result"
    }
   ],
   "source": [
    "math.pi"
   ]
  },
  {
   "cell_type": "code",
   "execution_count": 18,
   "metadata": {},
   "outputs": [
    {
     "data": {
      "text/plain": [
       "2.718281828459045"
      ]
     },
     "execution_count": 18,
     "metadata": {},
     "output_type": "execute_result"
    }
   ],
   "source": [
    "math.e"
   ]
  },
  {
   "cell_type": "markdown",
   "metadata": {},
   "source": [
    "Trignometry"
   ]
  },
  {
   "cell_type": "code",
   "execution_count": 19,
   "metadata": {},
   "outputs": [
    {
     "data": {
      "text/plain": [
       "3.141592653589793"
      ]
     },
     "execution_count": 19,
     "metadata": {},
     "output_type": "execute_result"
    }
   ],
   "source": [
    "math.radians(180)"
   ]
  },
  {
   "cell_type": "code",
   "execution_count": 20,
   "metadata": {},
   "outputs": [
    {
     "data": {
      "text/plain": [
       "360.0"
      ]
     },
     "execution_count": 20,
     "metadata": {},
     "output_type": "execute_result"
    }
   ],
   "source": [
    "math.degrees(2*math.pi)"
   ]
  },
  {
   "cell_type": "code",
   "execution_count": 21,
   "metadata": {},
   "outputs": [
    {
     "data": {
      "text/plain": [
       "0.49999999999999994"
      ]
     },
     "execution_count": 21,
     "metadata": {},
     "output_type": "execute_result"
    }
   ],
   "source": [
    "math.sin(math.radians(30))"
   ]
  },
  {
   "cell_type": "code",
   "execution_count": 22,
   "metadata": {},
   "outputs": [
    {
     "data": {
      "text/plain": [
       "0.8660254037844387"
      ]
     },
     "execution_count": 22,
     "metadata": {},
     "output_type": "execute_result"
    }
   ],
   "source": [
    "math.cos(math.radians(30))"
   ]
  },
  {
   "cell_type": "code",
   "execution_count": 23,
   "metadata": {},
   "outputs": [
    {
     "data": {
      "text/plain": [
       "0.5773502691896257"
      ]
     },
     "execution_count": 23,
     "metadata": {},
     "output_type": "execute_result"
    }
   ],
   "source": [
    "math.tan(math.radians(30))"
   ]
  },
  {
   "cell_type": "markdown",
   "metadata": {},
   "source": [
    "Lograthmic"
   ]
  },
  {
   "cell_type": "code",
   "execution_count": 24,
   "metadata": {},
   "outputs": [
    {
     "data": {
      "text/plain": [
       "2.302585092994046"
      ]
     },
     "execution_count": 24,
     "metadata": {},
     "output_type": "execute_result"
    }
   ],
   "source": [
    "math.log(10)"
   ]
  },
  {
   "cell_type": "code",
   "execution_count": 25,
   "metadata": {},
   "outputs": [
    {
     "data": {
      "text/plain": [
       "2.0"
      ]
     },
     "execution_count": 25,
     "metadata": {},
     "output_type": "execute_result"
    }
   ],
   "source": [
    "math.log10(100)"
   ]
  },
  {
   "cell_type": "code",
   "execution_count": 26,
   "metadata": {},
   "outputs": [
    {
     "data": {
      "text/plain": [
       "7.38905609893065"
      ]
     },
     "execution_count": 26,
     "metadata": {},
     "output_type": "execute_result"
    }
   ],
   "source": [
    "math.exp(2)"
   ]
  },
  {
   "cell_type": "code",
   "execution_count": 27,
   "metadata": {},
   "outputs": [
    {
     "data": {
      "text/plain": [
       "8.0"
      ]
     },
     "execution_count": 27,
     "metadata": {},
     "output_type": "execute_result"
    }
   ],
   "source": [
    "math.pow(2,3) #The function math.pow() returns a floating point number."
   ]
  },
  {
   "cell_type": "code",
   "execution_count": 28,
   "metadata": {},
   "outputs": [
    {
     "data": {
      "text/plain": [
       "3.0"
      ]
     },
     "execution_count": 28,
     "metadata": {},
     "output_type": "execute_result"
    }
   ],
   "source": [
    "math.sqrt(9)"
   ]
  },
  {
   "cell_type": "markdown",
   "metadata": {},
   "source": [
    "Representation"
   ]
  },
  {
   "cell_type": "code",
   "execution_count": 29,
   "metadata": {},
   "outputs": [
    {
     "data": {
      "text/plain": [
       "4"
      ]
     },
     "execution_count": 29,
     "metadata": {},
     "output_type": "execute_result"
    }
   ],
   "source": [
    "math.ceil(3.6)"
   ]
  },
  {
   "cell_type": "code",
   "execution_count": 30,
   "metadata": {},
   "outputs": [
    {
     "data": {
      "text/plain": [
       "3"
      ]
     },
     "execution_count": 30,
     "metadata": {},
     "output_type": "execute_result"
    }
   ],
   "source": [
    "math.floor(3.6)"
   ]
  },
  {
   "cell_type": "markdown",
   "metadata": {},
   "source": [
    "# Constructing Modules and Packages"
   ]
  },
  {
   "cell_type": "code",
   "execution_count": 31,
   "metadata": {},
   "outputs": [
    {
     "data": {
      "text/plain": [
       "'random'"
      ]
     },
     "execution_count": 31,
     "metadata": {},
     "output_type": "execute_result"
    }
   ],
   "source": [
    "import random\n",
    "random.__name__"
   ]
  },
  {
   "cell_type": "code",
   "execution_count": 33,
   "metadata": {},
   "outputs": [
    {
     "data": {
      "text/plain": [
       "'Random variable generators.\\n\\n    integers\\n    --------\\n           uniform within range\\n\\n    sequences\\n    ---------\\n           pick random element\\n           pick random sample\\n           pick weighted random sample\\n           generate random permutation\\n\\n    distributions on the real line:\\n    ------------------------------\\n           uniform\\n           triangular\\n           normal (Gaussian)\\n           lognormal\\n           negative exponential\\n           gamma\\n           beta\\n           pareto\\n           Weibull\\n\\n    distributions on the circle (angles 0 to 2pi)\\n    ---------------------------------------------\\n           circular uniform\\n           von Mises\\n\\nGeneral notes on the underlying Mersenne Twister core generator:\\n\\n* The period is 2**19937-1.\\n* It is one of the most extensively tested generators in existence.\\n* The random() method is implemented in C, executes in a single Python step,\\n  and is, therefore, threadsafe.\\n\\n'"
      ]
     },
     "execution_count": 33,
     "metadata": {},
     "output_type": "execute_result"
    }
   ],
   "source": [
    "random.__doc__"
   ]
  },
  {
   "cell_type": "code",
   "execution_count": 34,
   "metadata": {},
   "outputs": [
    {
     "data": {
      "text/plain": [
       "<function __dir__>"
      ]
     },
     "execution_count": 34,
     "metadata": {},
     "output_type": "execute_result"
    }
   ],
   "source": [
    "random.__dir__"
   ]
  },
  {
   "cell_type": "code",
   "execution_count": 35,
   "metadata": {},
   "outputs": [
    {
     "data": {
      "text/plain": [
       "['BPF',\n",
       " 'LOG4',\n",
       " 'NV_MAGICCONST',\n",
       " 'RECIP_BPF',\n",
       " 'Random',\n",
       " 'SG_MAGICCONST',\n",
       " 'SystemRandom',\n",
       " 'TWOPI',\n",
       " '_BuiltinMethodType',\n",
       " '_MethodType',\n",
       " '_Sequence',\n",
       " '_Set',\n",
       " '__all__',\n",
       " '__builtins__',\n",
       " '__cached__',\n",
       " '__doc__',\n",
       " '__file__',\n",
       " '__loader__',\n",
       " '__name__',\n",
       " '__package__',\n",
       " '__spec__',\n",
       " '_acos',\n",
       " '_bisect',\n",
       " '_ceil',\n",
       " '_cos',\n",
       " '_e',\n",
       " '_exp',\n",
       " '_inst',\n",
       " '_itertools',\n",
       " '_log',\n",
       " '_pi',\n",
       " '_random',\n",
       " '_sha512',\n",
       " '_sin',\n",
       " '_sqrt',\n",
       " '_test',\n",
       " '_test_generator',\n",
       " '_urandom',\n",
       " '_warn',\n",
       " 'betavariate',\n",
       " 'choice',\n",
       " 'choices',\n",
       " 'expovariate',\n",
       " 'gammavariate',\n",
       " 'gauss',\n",
       " 'getrandbits',\n",
       " 'getstate',\n",
       " 'lognormvariate',\n",
       " 'normalvariate',\n",
       " 'paretovariate',\n",
       " 'randint',\n",
       " 'random',\n",
       " 'randrange',\n",
       " 'sample',\n",
       " 'seed',\n",
       " 'setstate',\n",
       " 'shuffle',\n",
       " 'triangular',\n",
       " 'uniform',\n",
       " 'vonmisesvariate',\n",
       " 'weibullvariate']"
      ]
     },
     "execution_count": 35,
     "metadata": {},
     "output_type": "execute_result"
    }
   ],
   "source": [
    "dir(random)"
   ]
  },
  {
   "cell_type": "code",
   "execution_count": 37,
   "metadata": {},
   "outputs": [
    {
     "data": {
      "text/plain": [
       "{'__name__': 'random',\n",
       " '__doc__': 'Random variable generators.\\n\\n    integers\\n    --------\\n           uniform within range\\n\\n    sequences\\n    ---------\\n           pick random element\\n           pick random sample\\n           pick weighted random sample\\n           generate random permutation\\n\\n    distributions on the real line:\\n    ------------------------------\\n           uniform\\n           triangular\\n           normal (Gaussian)\\n           lognormal\\n           negative exponential\\n           gamma\\n           beta\\n           pareto\\n           Weibull\\n\\n    distributions on the circle (angles 0 to 2pi)\\n    ---------------------------------------------\\n           circular uniform\\n           von Mises\\n\\nGeneral notes on the underlying Mersenne Twister core generator:\\n\\n* The period is 2**19937-1.\\n* It is one of the most extensively tested generators in existence.\\n* The random() method is implemented in C, executes in a single Python step,\\n  and is, therefore, threadsafe.\\n\\n',\n",
       " '__package__': '',\n",
       " '__loader__': <_frozen_importlib_external.SourceFileLoader at 0x7fda34947a90>,\n",
       " '__spec__': ModuleSpec(name='random', loader=<_frozen_importlib_external.SourceFileLoader object at 0x7fda34947a90>, origin='/home/sarthak/anaconda3/lib/python3.6/random.py'),\n",
       " '__file__': '/home/sarthak/anaconda3/lib/python3.6/random.py',\n",
       " '__cached__': '/home/sarthak/anaconda3/lib/python3.6/__pycache__/random.cpython-36.pyc',\n",
       " '__builtins__': {'__name__': 'builtins',\n",
       "  '__doc__': \"Built-in functions, exceptions, and other objects.\\n\\nNoteworthy: None is the `nil' object; Ellipsis represents `...' in slices.\",\n",
       "  '__package__': '',\n",
       "  '__loader__': _frozen_importlib.BuiltinImporter,\n",
       "  '__spec__': ModuleSpec(name='builtins', loader=<class '_frozen_importlib.BuiltinImporter'>),\n",
       "  '__build_class__': <function __build_class__>,\n",
       "  '__import__': <function __import__>,\n",
       "  'abs': <function abs(x, /)>,\n",
       "  'all': <function all(iterable, /)>,\n",
       "  'any': <function any(iterable, /)>,\n",
       "  'ascii': <function ascii(obj, /)>,\n",
       "  'bin': <function bin(number, /)>,\n",
       "  'callable': <function callable(obj, /)>,\n",
       "  'chr': <function chr(i, /)>,\n",
       "  'compile': <function compile(source, filename, mode, flags=0, dont_inherit=False, optimize=-1)>,\n",
       "  'delattr': <function delattr(obj, name, /)>,\n",
       "  'dir': <function dir>,\n",
       "  'divmod': <function divmod(x, y, /)>,\n",
       "  'eval': <function eval(source, globals=None, locals=None, /)>,\n",
       "  'exec': <function exec(source, globals=None, locals=None, /)>,\n",
       "  'format': <function format(value, format_spec='', /)>,\n",
       "  'getattr': <function getattr>,\n",
       "  'globals': <function globals()>,\n",
       "  'hasattr': <function hasattr(obj, name, /)>,\n",
       "  'hash': <function hash(obj, /)>,\n",
       "  'hex': <function hex(number, /)>,\n",
       "  'id': <function id(obj, /)>,\n",
       "  'input': <bound method Kernel.raw_input of <ipykernel.ipkernel.IPythonKernel object at 0x7fda2dc98c50>>,\n",
       "  'isinstance': <function isinstance(obj, class_or_tuple, /)>,\n",
       "  'issubclass': <function issubclass(cls, class_or_tuple, /)>,\n",
       "  'iter': <function iter>,\n",
       "  'len': <function len(obj, /)>,\n",
       "  'locals': <function locals()>,\n",
       "  'max': <function max>,\n",
       "  'min': <function min>,\n",
       "  'next': <function next>,\n",
       "  'oct': <function oct(number, /)>,\n",
       "  'ord': <function ord(c, /)>,\n",
       "  'pow': <function pow(x, y, z=None, /)>,\n",
       "  'print': <function print>,\n",
       "  'repr': <function repr(obj, /)>,\n",
       "  'round': <function round>,\n",
       "  'setattr': <function setattr(obj, name, value, /)>,\n",
       "  'sorted': <function sorted(iterable, /, *, key=None, reverse=False)>,\n",
       "  'sum': <function sum(iterable, start=0, /)>,\n",
       "  'vars': <function vars>,\n",
       "  'None': None,\n",
       "  'Ellipsis': Ellipsis,\n",
       "  'NotImplemented': NotImplemented,\n",
       "  'False': False,\n",
       "  'True': True,\n",
       "  'bool': bool,\n",
       "  'memoryview': memoryview,\n",
       "  'bytearray': bytearray,\n",
       "  'bytes': bytes,\n",
       "  'classmethod': classmethod,\n",
       "  'complex': complex,\n",
       "  'dict': dict,\n",
       "  'enumerate': enumerate,\n",
       "  'filter': filter,\n",
       "  'float': float,\n",
       "  'frozenset': frozenset,\n",
       "  'property': property,\n",
       "  'int': int,\n",
       "  'list': list,\n",
       "  'map': map,\n",
       "  'object': object,\n",
       "  'range': range,\n",
       "  'reversed': reversed,\n",
       "  'set': set,\n",
       "  'slice': slice,\n",
       "  'staticmethod': staticmethod,\n",
       "  'str': str,\n",
       "  'super': super,\n",
       "  'tuple': tuple,\n",
       "  'type': type,\n",
       "  'zip': zip,\n",
       "  '__debug__': True,\n",
       "  'BaseException': BaseException,\n",
       "  'Exception': Exception,\n",
       "  'TypeError': TypeError,\n",
       "  'StopAsyncIteration': StopAsyncIteration,\n",
       "  'StopIteration': StopIteration,\n",
       "  'GeneratorExit': GeneratorExit,\n",
       "  'SystemExit': SystemExit,\n",
       "  'KeyboardInterrupt': KeyboardInterrupt,\n",
       "  'ImportError': ImportError,\n",
       "  'ModuleNotFoundError': ModuleNotFoundError,\n",
       "  'OSError': OSError,\n",
       "  'EnvironmentError': OSError,\n",
       "  'IOError': OSError,\n",
       "  'EOFError': EOFError,\n",
       "  'RuntimeError': RuntimeError,\n",
       "  'RecursionError': RecursionError,\n",
       "  'NotImplementedError': NotImplementedError,\n",
       "  'NameError': NameError,\n",
       "  'UnboundLocalError': UnboundLocalError,\n",
       "  'AttributeError': AttributeError,\n",
       "  'SyntaxError': SyntaxError,\n",
       "  'IndentationError': IndentationError,\n",
       "  'TabError': TabError,\n",
       "  'LookupError': LookupError,\n",
       "  'IndexError': IndexError,\n",
       "  'KeyError': KeyError,\n",
       "  'ValueError': ValueError,\n",
       "  'UnicodeError': UnicodeError,\n",
       "  'UnicodeEncodeError': UnicodeEncodeError,\n",
       "  'UnicodeDecodeError': UnicodeDecodeError,\n",
       "  'UnicodeTranslateError': UnicodeTranslateError,\n",
       "  'AssertionError': AssertionError,\n",
       "  'ArithmeticError': ArithmeticError,\n",
       "  'FloatingPointError': FloatingPointError,\n",
       "  'OverflowError': OverflowError,\n",
       "  'ZeroDivisionError': ZeroDivisionError,\n",
       "  'SystemError': SystemError,\n",
       "  'ReferenceError': ReferenceError,\n",
       "  'BufferError': BufferError,\n",
       "  'MemoryError': MemoryError,\n",
       "  'Warning': Warning,\n",
       "  'UserWarning': UserWarning,\n",
       "  'DeprecationWarning': DeprecationWarning,\n",
       "  'PendingDeprecationWarning': PendingDeprecationWarning,\n",
       "  'SyntaxWarning': SyntaxWarning,\n",
       "  'RuntimeWarning': RuntimeWarning,\n",
       "  'FutureWarning': FutureWarning,\n",
       "  'ImportWarning': ImportWarning,\n",
       "  'UnicodeWarning': UnicodeWarning,\n",
       "  'BytesWarning': BytesWarning,\n",
       "  'ResourceWarning': ResourceWarning,\n",
       "  'ConnectionError': ConnectionError,\n",
       "  'BlockingIOError': BlockingIOError,\n",
       "  'BrokenPipeError': BrokenPipeError,\n",
       "  'ChildProcessError': ChildProcessError,\n",
       "  'ConnectionAbortedError': ConnectionAbortedError,\n",
       "  'ConnectionRefusedError': ConnectionRefusedError,\n",
       "  'ConnectionResetError': ConnectionResetError,\n",
       "  'FileExistsError': FileExistsError,\n",
       "  'FileNotFoundError': FileNotFoundError,\n",
       "  'IsADirectoryError': IsADirectoryError,\n",
       "  'NotADirectoryError': NotADirectoryError,\n",
       "  'InterruptedError': InterruptedError,\n",
       "  'PermissionError': PermissionError,\n",
       "  'ProcessLookupError': ProcessLookupError,\n",
       "  'TimeoutError': TimeoutError,\n",
       "  'open': <function io.open(file, mode='r', buffering=-1, encoding=None, errors=None, newline=None, closefd=True, opener=None)>,\n",
       "  'copyright': Copyright (c) 2001-2018 Python Software Foundation.\n",
       "  All Rights Reserved.\n",
       "  \n",
       "  Copyright (c) 2000 BeOpen.com.\n",
       "  All Rights Reserved.\n",
       "  \n",
       "  Copyright (c) 1995-2001 Corporation for National Research Initiatives.\n",
       "  All Rights Reserved.\n",
       "  \n",
       "  Copyright (c) 1991-1995 Stichting Mathematisch Centrum, Amsterdam.\n",
       "  All Rights Reserved.,\n",
       "  'credits':     Thanks to CWI, CNRI, BeOpen.com, Zope Corporation and a cast of thousands\n",
       "      for supporting Python development.  See www.python.org for more information.,\n",
       "  'license': Type license() to see the full license text,\n",
       "  'help': Type help() for interactive help, or help(object) for help about object.,\n",
       "  '__IPYTHON__': True,\n",
       "  'display': <function IPython.core.display.display(*objs, include=None, exclude=None, metadata=None, transient=None, display_id=None, **kwargs)>,\n",
       "  'get_ipython': <bound method InteractiveShell.get_ipython of <ipykernel.zmqshell.ZMQInteractiveShell object at 0x7fda2dc98940>>},\n",
       " '_warn': <function _warnings.warn>,\n",
       " '_MethodType': method,\n",
       " '_BuiltinMethodType': builtin_function_or_method,\n",
       " '_log': <function math.log>,\n",
       " '_exp': <function math.exp>,\n",
       " '_pi': 3.141592653589793,\n",
       " '_e': 2.718281828459045,\n",
       " '_ceil': <function math.ceil>,\n",
       " '_sqrt': <function math.sqrt>,\n",
       " '_acos': <function math.acos>,\n",
       " '_cos': <function math.cos>,\n",
       " '_sin': <function math.sin>,\n",
       " '_urandom': <function posix.urandom(size, /)>,\n",
       " '_Set': collections.abc.Set,\n",
       " '_Sequence': collections.abc.Sequence,\n",
       " '_sha512': <function _hashlib.openssl_sha512>,\n",
       " '_itertools': <module 'itertools' (built-in)>,\n",
       " '_bisect': <module 'bisect' from '/home/sarthak/anaconda3/lib/python3.6/bisect.py'>,\n",
       " '__all__': ['Random',\n",
       "  'seed',\n",
       "  'random',\n",
       "  'uniform',\n",
       "  'randint',\n",
       "  'choice',\n",
       "  'sample',\n",
       "  'randrange',\n",
       "  'shuffle',\n",
       "  'normalvariate',\n",
       "  'lognormvariate',\n",
       "  'expovariate',\n",
       "  'vonmisesvariate',\n",
       "  'gammavariate',\n",
       "  'triangular',\n",
       "  'gauss',\n",
       "  'betavariate',\n",
       "  'paretovariate',\n",
       "  'weibullvariate',\n",
       "  'getstate',\n",
       "  'setstate',\n",
       "  'getrandbits',\n",
       "  'choices',\n",
       "  'SystemRandom'],\n",
       " 'NV_MAGICCONST': 1.7155277699214135,\n",
       " 'TWOPI': 6.283185307179586,\n",
       " 'LOG4': 1.3862943611198906,\n",
       " 'SG_MAGICCONST': 2.504077396776274,\n",
       " 'BPF': 53,\n",
       " 'RECIP_BPF': 1.1102230246251565e-16,\n",
       " '_random': <module '_random' from '/home/sarthak/anaconda3/lib/python3.6/lib-dynload/_random.cpython-36m-x86_64-linux-gnu.so'>,\n",
       " 'Random': random.Random,\n",
       " 'SystemRandom': random.SystemRandom,\n",
       " '_test_generator': <function random._test_generator(n, func, args)>,\n",
       " '_test': <function random._test(N=2000)>,\n",
       " '_inst': <random.Random at 0x555f67710b18>,\n",
       " 'seed': <bound method Random.seed of <random.Random object at 0x555f67710b18>>,\n",
       " 'random': <function Random.random>,\n",
       " 'uniform': <bound method Random.uniform of <random.Random object at 0x555f67710b18>>,\n",
       " 'triangular': <bound method Random.triangular of <random.Random object at 0x555f67710b18>>,\n",
       " 'randint': <bound method Random.randint of <random.Random object at 0x555f67710b18>>,\n",
       " 'choice': <bound method Random.choice of <random.Random object at 0x555f67710b18>>,\n",
       " 'randrange': <bound method Random.randrange of <random.Random object at 0x555f67710b18>>,\n",
       " 'sample': <bound method Random.sample of <random.Random object at 0x555f67710b18>>,\n",
       " 'shuffle': <bound method Random.shuffle of <random.Random object at 0x555f67710b18>>,\n",
       " 'choices': <bound method Random.choices of <random.Random object at 0x555f67710b18>>,\n",
       " 'normalvariate': <bound method Random.normalvariate of <random.Random object at 0x555f67710b18>>,\n",
       " 'lognormvariate': <bound method Random.lognormvariate of <random.Random object at 0x555f67710b18>>,\n",
       " 'expovariate': <bound method Random.expovariate of <random.Random object at 0x555f67710b18>>,\n",
       " 'vonmisesvariate': <bound method Random.vonmisesvariate of <random.Random object at 0x555f67710b18>>,\n",
       " 'gammavariate': <bound method Random.gammavariate of <random.Random object at 0x555f67710b18>>,\n",
       " 'gauss': <bound method Random.gauss of <random.Random object at 0x555f67710b18>>,\n",
       " 'betavariate': <bound method Random.betavariate of <random.Random object at 0x555f67710b18>>,\n",
       " 'paretovariate': <bound method Random.paretovariate of <random.Random object at 0x555f67710b18>>,\n",
       " 'weibullvariate': <bound method Random.weibullvariate of <random.Random object at 0x555f67710b18>>,\n",
       " 'getstate': <bound method Random.getstate of <random.Random object at 0x555f67710b18>>,\n",
       " 'setstate': <bound method Random.setstate of <random.Random object at 0x555f67710b18>>,\n",
       " 'getrandbits': <function Random.getrandbits>}"
      ]
     },
     "execution_count": 37,
     "metadata": {},
     "output_type": "execute_result"
    }
   ],
   "source": [
    "random.__dict__"
   ]
  },
  {
   "cell_type": "markdown",
   "metadata": {},
   "source": [
    "# OOPS"
   ]
  },
  {
   "cell_type": "markdown",
   "metadata": {},
   "source": [
    "Classes"
   ]
  },
  {
   "cell_type": "code",
   "execution_count": 40,
   "metadata": {},
   "outputs": [
    {
     "name": "stdout",
     "output_type": "stream",
     "text": [
      "Name is Sarthak\n",
      "Gender is Male\n"
     ]
    }
   ],
   "source": [
    "class name:\n",
    "    name = 'Sarthak'\n",
    "    gender = 'Male'\n",
    "    def showInfo(self):\n",
    "        print('Name is {}'.format(self.name))\n",
    "        print('Gender is {}'.format(self.gender))\n",
    "p1 = name()\n",
    "p1.showInfo()"
   ]
  },
  {
   "cell_type": "code",
   "execution_count": 42,
   "metadata": {},
   "outputs": [
    {
     "name": "stdout",
     "output_type": "stream",
     "text": [
      "Name is Sarthak\n",
      "Gender is Male\n",
      "Name is Gulafsha\n",
      "Gender is Female\n"
     ]
    }
   ],
   "source": [
    "class name:\n",
    "    def __init__(self,a = 'Sarthak',b = 'Male'):\n",
    "        self.name = a;\n",
    "        self.gender = b;\n",
    "    def showInfo(self):\n",
    "        print('Name is {}'.format(self.name))\n",
    "        print('Gender is {}'.format(self.gender))\n",
    "p1 = name()\n",
    "p1.showInfo()\n",
    "p2 = name('Gulafsha','Female')\n",
    "p2.showInfo()"
   ]
  },
  {
   "cell_type": "code",
   "execution_count": null,
   "metadata": {},
   "outputs": [],
   "source": []
  }
 ],
 "metadata": {
  "kernelspec": {
   "display_name": "Python 3",
   "language": "python",
   "name": "python3"
  },
  "language_info": {
   "codemirror_mode": {
    "name": "ipython",
    "version": 3
   },
   "file_extension": ".py",
   "mimetype": "text/x-python",
   "name": "python",
   "nbconvert_exporter": "python",
   "pygments_lexer": "ipython3",
   "version": "3.6.5"
  }
 },
 "nbformat": 4,
 "nbformat_minor": 2
}
